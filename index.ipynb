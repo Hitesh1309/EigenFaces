{
 "cells": [
  {
   "cell_type": "code",
   "execution_count": 19,
   "metadata": {},
   "outputs": [],
   "source": [
    "# webscrape 20 images each of 10 anime characters\n",
    "# save images to folder\n",
    "\n",
    "import os\n",
    "from bing_image_downloader import downloader\n",
    "\n",
    "# create folder to save images if it doesn't exist\n",
    "if not os.path.exists('images'):\n",
    "    os.mkdir('images')\n",
    "\n",
    "# create list of anime characters\n",
    "anime_characters = ['saitama', 'goku', 'naruto', 'luffy', 'light', 'sasuke', 'killua', 'gintoki', 'saitama', 'goku']\n",
    "\n",
    "#delete all folders which are not in anime_characters\n",
    "for folder in os.listdir('images'):\n",
    "    if folder not in anime_characters:\n",
    "        os.rmdir('images/' + folder)"
   ]
  },
  {
   "cell_type": "code",
   "execution_count": 21,
   "metadata": {},
   "outputs": [
    {
     "name": "stdout",
     "output_type": "stream",
     "text": [
      "[%] Downloading Images to d:\\DSLab\\ML\\EigenFaces\\images\\saitama face\n",
      "[!] Issue getting: https://external-preview.redd.it/UhajG7Z8o_YK30AIvVpVGWnTTteZ0htAJ82yQD-fSb8.png?auto=webp&amp;s=a5de2cb6c9a982755a7ca8bf5f5af8c505198553\n",
      "[!] Error:: HTTP Error 403: Forbidden\n",
      "\n",
      "\n",
      "[%] Done. Downloaded 10 images.\n",
      "[%] Downloading Images to d:\\DSLab\\ML\\EigenFaces\\images\\goku face\n",
      "\n",
      "\n",
      "[%] Done. Downloaded 10 images.\n",
      "[%] Downloading Images to d:\\DSLab\\ML\\EigenFaces\\images\\naruto face\n"
     ]
    }
   ],
   "source": [
    "# loop through each character\n",
    "for character in anime_characters:\n",
    "    # download 20 images of each character\n",
    "    downloader.download(character+\" face\", limit=10, output_dir='images/', adult_filter_off=True, force_replace=False, timeout=60, verbose=False)"
   ]
  }
 ],
 "metadata": {
  "kernelspec": {
   "display_name": "Python 3",
   "language": "python",
   "name": "python3"
  },
  "language_info": {
   "codemirror_mode": {
    "name": "ipython",
    "version": 3
   },
   "file_extension": ".py",
   "mimetype": "text/x-python",
   "name": "python",
   "nbconvert_exporter": "python",
   "pygments_lexer": "ipython3",
   "version": "3.11.0"
  },
  "orig_nbformat": 4,
  "vscode": {
   "interpreter": {
    "hash": "0984b654a3004d455b932112f7915bbcb2695634497522e7e2d77d1b4a561633"
   }
  }
 },
 "nbformat": 4,
 "nbformat_minor": 2
}
