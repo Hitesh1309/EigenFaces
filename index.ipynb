{
 "cells": [
  {
   "cell_type": "code",
   "execution_count": 19,
   "metadata": {},
   "outputs": [],
   "source": [
    "# webscrape 20 images each of 10 anime characters\n",
    "# save images to folder\n",
    "\n",
    "import os\n",
    "from bing_image_downloader import downloader\n",
    "\n",
    "# create folder to save images if it doesn't exist\n",
    "if not os.path.exists('images'):\n",
    "    os.mkdir('images')\n",
    "\n",
    "# create list of anime characters\n",
    "anime_characters = ['saitama', 'goku', 'naruto', 'luffy', 'light', 'sasuke', 'killua', 'gintoki', 'saitama', 'goku']\n",
    "\n",
    "#delete all folders which are not in anime_characters\n",
    "for folder in os.listdir('images'):\n",
    "    if folder not in anime_characters:\n",
    "        os.rmdir('images/' + folder)"
   ]
  },
  {
   "cell_type": "code",
   "execution_count": 21,
   "metadata": {},
   "outputs": [
    {
     "name": "stdout",
     "output_type": "stream",
     "text": [
      "[%] Downloading Images to d:\\DSLab\\ML\\EigenFaces\\images\\saitama face\n",
      "[!] Issue getting: https://external-preview.redd.it/UhajG7Z8o_YK30AIvVpVGWnTTteZ0htAJ82yQD-fSb8.png?auto=webp&amp;s=a5de2cb6c9a982755a7ca8bf5f5af8c505198553\n",
      "[!] Error:: HTTP Error 403: Forbidden\n",
      "\n",
      "\n",
      "[%] Done. Downloaded 10 images.\n",
      "[%] Downloading Images to d:\\DSLab\\ML\\EigenFaces\\images\\goku face\n",
      "\n",
      "\n",
      "[%] Done. Downloaded 10 images.\n",
      "[%] Downloading Images to d:\\DSLab\\ML\\EigenFaces\\images\\naruto face\n",
      "\n",
      "\n",
      "[%] Done. Downloaded 10 images.\n",
      "[%] Downloading Images to d:\\DSLab\\ML\\EigenFaces\\images\\luffy face\n",
      "[Error]Invalid image, not saving http://images5.fanpop.com/image/photos/29900000/Luffy-one-piece-29912041-960-720.jpg\n",
      "\n",
      "[!] Issue getting: http://images5.fanpop.com/image/photos/29900000/Luffy-one-piece-29912041-960-720.jpg\n",
      "[!] Error:: Invalid image, not saving http://images5.fanpop.com/image/photos/29900000/Luffy-one-piece-29912041-960-720.jpg\n",
      "\n",
      "\n",
      "\n",
      "[%] Done. Downloaded 10 images.\n",
      "[%] Downloading Images to d:\\DSLab\\ML\\EigenFaces\\images\\light face\n",
      "\n",
      "\n",
      "[%] Done. Downloaded 10 images.\n",
      "[%] Downloading Images to d:\\DSLab\\ML\\EigenFaces\\images\\sasuke face\n",
      "\n",
      "\n",
      "[%] Done. Downloaded 10 images.\n",
      "[%] Downloading Images to d:\\DSLab\\ML\\EigenFaces\\images\\killua face\n",
      "[!] Issue getting: https://e7.pngegg.com/pngimages/85/885/png-clipart-killua-zoldyck-zoldyck-family-hunter-×-hunter-anime-manga-anime-purple-face.png\n",
      "[!] Error:: 'ascii' codec can't encode character '\\xd7' in position 71: ordinal not in range(128)\n",
      "\n",
      "\n",
      "[%] Done. Downloaded 10 images.\n",
      "[%] Downloading Images to d:\\DSLab\\ML\\EigenFaces\\images\\gintoki face\n",
      "[Error]Invalid image, not saving https://64.media.tumblr.com/766a1bf83730be3b700e451ac23744a1/tumblr_ppfdh7P2Ay1w4nz9h_1280.jpg\n",
      "\n",
      "[!] Issue getting: https://64.media.tumblr.com/766a1bf83730be3b700e451ac23744a1/tumblr_ppfdh7P2Ay1w4nz9h_1280.jpg\n",
      "[!] Error:: Invalid image, not saving https://64.media.tumblr.com/766a1bf83730be3b700e451ac23744a1/tumblr_ppfdh7P2Ay1w4nz9h_1280.jpg\n",
      "\n",
      "\n",
      "\n",
      "[%] Done. Downloaded 10 images.\n",
      "[%] Downloading Images to d:\\DSLab\\ML\\EigenFaces\\images\\saitama face\n",
      "[!] Issue getting: https://external-preview.redd.it/UhajG7Z8o_YK30AIvVpVGWnTTteZ0htAJ82yQD-fSb8.png?auto=webp&amp;s=a5de2cb6c9a982755a7ca8bf5f5af8c505198553\n",
      "[!] Error:: HTTP Error 403: Forbidden\n"
     ]
    },
    {
     "ename": "KeyboardInterrupt",
     "evalue": "",
     "output_type": "error",
     "traceback": [
      "\u001b[1;31m---------------------------------------------------------------------------\u001b[0m",
      "\u001b[1;31mKeyboardInterrupt\u001b[0m                         Traceback (most recent call last)",
      "Cell \u001b[1;32mIn [21], line 4\u001b[0m\n\u001b[0;32m      1\u001b[0m \u001b[39m# loop through each character\u001b[39;00m\n\u001b[0;32m      2\u001b[0m \u001b[39mfor\u001b[39;00m character \u001b[39min\u001b[39;00m anime_characters:\n\u001b[0;32m      3\u001b[0m     \u001b[39m# download 20 images of each character\u001b[39;00m\n\u001b[1;32m----> 4\u001b[0m     downloader\u001b[39m.\u001b[39;49mdownload(character\u001b[39m+\u001b[39;49m\u001b[39m\"\u001b[39;49m\u001b[39m face\u001b[39;49m\u001b[39m\"\u001b[39;49m, limit\u001b[39m=\u001b[39;49m\u001b[39m10\u001b[39;49m, output_dir\u001b[39m=\u001b[39;49m\u001b[39m'\u001b[39;49m\u001b[39mimages/\u001b[39;49m\u001b[39m'\u001b[39;49m, adult_filter_off\u001b[39m=\u001b[39;49m\u001b[39mTrue\u001b[39;49;00m, force_replace\u001b[39m=\u001b[39;49m\u001b[39mFalse\u001b[39;49;00m, timeout\u001b[39m=\u001b[39;49m\u001b[39m60\u001b[39;49m, verbose\u001b[39m=\u001b[39;49m\u001b[39mFalse\u001b[39;49;00m)\n",
      "File \u001b[1;32mc:\\Users\\abish\\AppData\\Local\\Programs\\Python\\Python311\\Lib\\site-packages\\bing_image_downloader\\downloader.py:38\u001b[0m, in \u001b[0;36mdownload\u001b[1;34m(query, limit, output_dir, adult_filter_off, force_replace, timeout, filter, verbose)\u001b[0m\n\u001b[0;32m     36\u001b[0m \u001b[39mprint\u001b[39m(\u001b[39m\"\u001b[39m\u001b[39m[\u001b[39m\u001b[39m%\u001b[39m\u001b[39m] Downloading Images to \u001b[39m\u001b[39m{}\u001b[39;00m\u001b[39m\"\u001b[39m\u001b[39m.\u001b[39mformat(\u001b[39mstr\u001b[39m(image_dir\u001b[39m.\u001b[39mabsolute())))\n\u001b[0;32m     37\u001b[0m bing \u001b[39m=\u001b[39m Bing(query, limit, image_dir, adult, timeout, \u001b[39mfilter\u001b[39m, verbose)\n\u001b[1;32m---> 38\u001b[0m bing\u001b[39m.\u001b[39;49mrun()\n",
      "File \u001b[1;32mc:\\Users\\abish\\AppData\\Local\\Programs\\Python\\Python311\\Lib\\site-packages\\bing_image_downloader\\bing.py:112\u001b[0m, in \u001b[0;36mBing.run\u001b[1;34m(self)\u001b[0m\n\u001b[0;32m    110\u001b[0m         \u001b[39mif\u001b[39;00m \u001b[39mself\u001b[39m\u001b[39m.\u001b[39mdownload_count \u001b[39m<\u001b[39m \u001b[39mself\u001b[39m\u001b[39m.\u001b[39mlimit \u001b[39mand\u001b[39;00m link \u001b[39mnot\u001b[39;00m \u001b[39min\u001b[39;00m \u001b[39mself\u001b[39m\u001b[39m.\u001b[39mseen:\n\u001b[0;32m    111\u001b[0m             \u001b[39mself\u001b[39m\u001b[39m.\u001b[39mseen\u001b[39m.\u001b[39madd(link)\n\u001b[1;32m--> 112\u001b[0m             \u001b[39mself\u001b[39;49m\u001b[39m.\u001b[39;49mdownload_image(link)\n\u001b[0;32m    114\u001b[0m     \u001b[39mself\u001b[39m\u001b[39m.\u001b[39mpage_counter \u001b[39m+\u001b[39m\u001b[39m=\u001b[39m \u001b[39m1\u001b[39m\n\u001b[0;32m    115\u001b[0m \u001b[39mprint\u001b[39m(\u001b[39m\"\u001b[39m\u001b[39m\\n\u001b[39;00m\u001b[39m\\n\u001b[39;00m\u001b[39m[\u001b[39m\u001b[39m%\u001b[39m\u001b[39m] Done. Downloaded \u001b[39m\u001b[39m{}\u001b[39;00m\u001b[39m images.\u001b[39m\u001b[39m\"\u001b[39m\u001b[39m.\u001b[39mformat(\u001b[39mself\u001b[39m\u001b[39m.\u001b[39mdownload_count))\n",
      "File \u001b[1;32mc:\\Users\\abish\\AppData\\Local\\Programs\\Python\\Python311\\Lib\\site-packages\\bing_image_downloader\\bing.py:80\u001b[0m, in \u001b[0;36mBing.download_image\u001b[1;34m(self, link)\u001b[0m\n\u001b[0;32m     76\u001b[0m \u001b[39mif\u001b[39;00m \u001b[39mself\u001b[39m\u001b[39m.\u001b[39mverbose:\n\u001b[0;32m     77\u001b[0m     \u001b[39m# Download the image\u001b[39;00m\n\u001b[0;32m     78\u001b[0m     \u001b[39mprint\u001b[39m(\u001b[39m\"\u001b[39m\u001b[39m[\u001b[39m\u001b[39m%\u001b[39m\u001b[39m] Downloading Image #\u001b[39m\u001b[39m{}\u001b[39;00m\u001b[39m from \u001b[39m\u001b[39m{}\u001b[39;00m\u001b[39m\"\u001b[39m\u001b[39m.\u001b[39mformat(\u001b[39mself\u001b[39m\u001b[39m.\u001b[39mdownload_count, link))\n\u001b[1;32m---> 80\u001b[0m \u001b[39mself\u001b[39;49m\u001b[39m.\u001b[39;49msave_image(link, \u001b[39mself\u001b[39;49m\u001b[39m.\u001b[39;49moutput_dir\u001b[39m.\u001b[39;49mjoinpath(\u001b[39m\"\u001b[39;49m\u001b[39mImage_\u001b[39;49m\u001b[39m{}\u001b[39;49;00m\u001b[39m.\u001b[39;49m\u001b[39m{}\u001b[39;49;00m\u001b[39m\"\u001b[39;49m\u001b[39m.\u001b[39;49mformat(\n\u001b[0;32m     81\u001b[0m     \u001b[39mstr\u001b[39;49m(\u001b[39mself\u001b[39;49m\u001b[39m.\u001b[39;49mdownload_count), file_type)))\n\u001b[0;32m     82\u001b[0m \u001b[39mif\u001b[39;00m \u001b[39mself\u001b[39m\u001b[39m.\u001b[39mverbose:\n\u001b[0;32m     83\u001b[0m     \u001b[39mprint\u001b[39m(\u001b[39m\"\u001b[39m\u001b[39m[\u001b[39m\u001b[39m%\u001b[39m\u001b[39m] File Downloaded !\u001b[39m\u001b[39m\\n\u001b[39;00m\u001b[39m\"\u001b[39m)\n",
      "File \u001b[1;32mc:\\Users\\abish\\AppData\\Local\\Programs\\Python\\Python311\\Lib\\site-packages\\bing_image_downloader\\bing.py:58\u001b[0m, in \u001b[0;36mBing.save_image\u001b[1;34m(self, link, file_path)\u001b[0m\n\u001b[0;32m     56\u001b[0m \u001b[39mdef\u001b[39;00m \u001b[39msave_image\u001b[39m(\u001b[39mself\u001b[39m, link, file_path):\n\u001b[0;32m     57\u001b[0m     request \u001b[39m=\u001b[39m urllib\u001b[39m.\u001b[39mrequest\u001b[39m.\u001b[39mRequest(link, \u001b[39mNone\u001b[39;00m, \u001b[39mself\u001b[39m\u001b[39m.\u001b[39mheaders)\n\u001b[1;32m---> 58\u001b[0m     image \u001b[39m=\u001b[39m urllib\u001b[39m.\u001b[39;49mrequest\u001b[39m.\u001b[39;49murlopen(request, timeout\u001b[39m=\u001b[39;49m\u001b[39mself\u001b[39;49m\u001b[39m.\u001b[39;49mtimeout)\u001b[39m.\u001b[39;49mread()\n\u001b[0;32m     59\u001b[0m     \u001b[39mif\u001b[39;00m \u001b[39mnot\u001b[39;00m imghdr\u001b[39m.\u001b[39mwhat(\u001b[39mNone\u001b[39;00m, image):\n\u001b[0;32m     60\u001b[0m         \u001b[39mprint\u001b[39m(\u001b[39m'\u001b[39m\u001b[39m[Error]Invalid image, not saving \u001b[39m\u001b[39m{}\u001b[39;00m\u001b[39m\\n\u001b[39;00m\u001b[39m'\u001b[39m\u001b[39m.\u001b[39mformat(link))\n",
      "File \u001b[1;32mc:\\Users\\abish\\AppData\\Local\\Programs\\Python\\Python311\\Lib\\http\\client.py:481\u001b[0m, in \u001b[0;36mHTTPResponse.read\u001b[1;34m(self, amt)\u001b[0m\n\u001b[0;32m    479\u001b[0m \u001b[39melse\u001b[39;00m:\n\u001b[0;32m    480\u001b[0m     \u001b[39mtry\u001b[39;00m:\n\u001b[1;32m--> 481\u001b[0m         s \u001b[39m=\u001b[39m \u001b[39mself\u001b[39;49m\u001b[39m.\u001b[39;49m_safe_read(\u001b[39mself\u001b[39;49m\u001b[39m.\u001b[39;49mlength)\n\u001b[0;32m    482\u001b[0m     \u001b[39mexcept\u001b[39;00m IncompleteRead:\n\u001b[0;32m    483\u001b[0m         \u001b[39mself\u001b[39m\u001b[39m.\u001b[39m_close_conn()\n",
      "File \u001b[1;32mc:\\Users\\abish\\AppData\\Local\\Programs\\Python\\Python311\\Lib\\http\\client.py:630\u001b[0m, in \u001b[0;36mHTTPResponse._safe_read\u001b[1;34m(self, amt)\u001b[0m\n\u001b[0;32m    623\u001b[0m \u001b[39mdef\u001b[39;00m \u001b[39m_safe_read\u001b[39m(\u001b[39mself\u001b[39m, amt):\n\u001b[0;32m    624\u001b[0m     \u001b[39m\"\"\"Read the number of bytes requested.\u001b[39;00m\n\u001b[0;32m    625\u001b[0m \n\u001b[0;32m    626\u001b[0m \u001b[39m    This function should be used when <amt> bytes \"should\" be present for\u001b[39;00m\n\u001b[0;32m    627\u001b[0m \u001b[39m    reading. If the bytes are truly not available (due to EOF), then the\u001b[39;00m\n\u001b[0;32m    628\u001b[0m \u001b[39m    IncompleteRead exception can be used to detect the problem.\u001b[39;00m\n\u001b[0;32m    629\u001b[0m \u001b[39m    \"\"\"\u001b[39;00m\n\u001b[1;32m--> 630\u001b[0m     data \u001b[39m=\u001b[39m \u001b[39mself\u001b[39m\u001b[39m.\u001b[39mfp\u001b[39m.\u001b[39mread(amt)\n\u001b[0;32m    631\u001b[0m     \u001b[39mif\u001b[39;00m \u001b[39mlen\u001b[39m(data) \u001b[39m<\u001b[39m amt:\n\u001b[0;32m    632\u001b[0m         \u001b[39mraise\u001b[39;00m IncompleteRead(data, amt\u001b[39m-\u001b[39m\u001b[39mlen\u001b[39m(data))\n",
      "File \u001b[1;32mc:\\Users\\abish\\AppData\\Local\\Programs\\Python\\Python311\\Lib\\socket.py:705\u001b[0m, in \u001b[0;36mSocketIO.readinto\u001b[1;34m(self, b)\u001b[0m\n\u001b[0;32m    703\u001b[0m \u001b[39mwhile\u001b[39;00m \u001b[39mTrue\u001b[39;00m:\n\u001b[0;32m    704\u001b[0m     \u001b[39mtry\u001b[39;00m:\n\u001b[1;32m--> 705\u001b[0m         \u001b[39mreturn\u001b[39;00m \u001b[39mself\u001b[39;49m\u001b[39m.\u001b[39;49m_sock\u001b[39m.\u001b[39;49mrecv_into(b)\n\u001b[0;32m    706\u001b[0m     \u001b[39mexcept\u001b[39;00m timeout:\n\u001b[0;32m    707\u001b[0m         \u001b[39mself\u001b[39m\u001b[39m.\u001b[39m_timeout_occurred \u001b[39m=\u001b[39m \u001b[39mTrue\u001b[39;00m\n",
      "File \u001b[1;32mc:\\Users\\abish\\AppData\\Local\\Programs\\Python\\Python311\\Lib\\ssl.py:1278\u001b[0m, in \u001b[0;36mSSLSocket.recv_into\u001b[1;34m(self, buffer, nbytes, flags)\u001b[0m\n\u001b[0;32m   1274\u001b[0m     \u001b[39mif\u001b[39;00m flags \u001b[39m!=\u001b[39m \u001b[39m0\u001b[39m:\n\u001b[0;32m   1275\u001b[0m         \u001b[39mraise\u001b[39;00m \u001b[39mValueError\u001b[39;00m(\n\u001b[0;32m   1276\u001b[0m           \u001b[39m\"\u001b[39m\u001b[39mnon-zero flags not allowed in calls to recv_into() on \u001b[39m\u001b[39m%s\u001b[39;00m\u001b[39m\"\u001b[39m \u001b[39m%\u001b[39m\n\u001b[0;32m   1277\u001b[0m           \u001b[39mself\u001b[39m\u001b[39m.\u001b[39m\u001b[39m__class__\u001b[39m)\n\u001b[1;32m-> 1278\u001b[0m     \u001b[39mreturn\u001b[39;00m \u001b[39mself\u001b[39;49m\u001b[39m.\u001b[39;49mread(nbytes, buffer)\n\u001b[0;32m   1279\u001b[0m \u001b[39melse\u001b[39;00m:\n\u001b[0;32m   1280\u001b[0m     \u001b[39mreturn\u001b[39;00m \u001b[39msuper\u001b[39m()\u001b[39m.\u001b[39mrecv_into(buffer, nbytes, flags)\n",
      "File \u001b[1;32mc:\\Users\\abish\\AppData\\Local\\Programs\\Python\\Python311\\Lib\\ssl.py:1134\u001b[0m, in \u001b[0;36mSSLSocket.read\u001b[1;34m(self, len, buffer)\u001b[0m\n\u001b[0;32m   1132\u001b[0m \u001b[39mtry\u001b[39;00m:\n\u001b[0;32m   1133\u001b[0m     \u001b[39mif\u001b[39;00m buffer \u001b[39mis\u001b[39;00m \u001b[39mnot\u001b[39;00m \u001b[39mNone\u001b[39;00m:\n\u001b[1;32m-> 1134\u001b[0m         \u001b[39mreturn\u001b[39;00m \u001b[39mself\u001b[39;49m\u001b[39m.\u001b[39;49m_sslobj\u001b[39m.\u001b[39;49mread(\u001b[39mlen\u001b[39;49m, buffer)\n\u001b[0;32m   1135\u001b[0m     \u001b[39melse\u001b[39;00m:\n\u001b[0;32m   1136\u001b[0m         \u001b[39mreturn\u001b[39;00m \u001b[39mself\u001b[39m\u001b[39m.\u001b[39m_sslobj\u001b[39m.\u001b[39mread(\u001b[39mlen\u001b[39m)\n",
      "\u001b[1;31mKeyboardInterrupt\u001b[0m: "
     ]
    }
   ],
   "source": [
    "# loop through each character\n",
    "for character in anime_characters:\n",
    "    # download 20 images of each character\n",
    "    downloader.download(character+\" face\", limit=10, output_dir='images/', adult_filter_off=True, force_replace=False, timeout=60, verbose=False, filter=\"photo\")"
   ]
  }
 ],
 "metadata": {
  "kernelspec": {
   "display_name": "Python 3",
   "language": "python",
   "name": "python3"
  },
  "language_info": {
   "codemirror_mode": {
    "name": "ipython",
    "version": 3
   },
   "file_extension": ".py",
   "mimetype": "text/x-python",
   "name": "python",
   "nbconvert_exporter": "python",
   "pygments_lexer": "ipython3",
   "version": "3.11.0"
  },
  "orig_nbformat": 4,
  "vscode": {
   "interpreter": {
    "hash": "0984b654a3004d455b932112f7915bbcb2695634497522e7e2d77d1b4a561633"
   }
  }
 },
 "nbformat": 4,
 "nbformat_minor": 2
}
